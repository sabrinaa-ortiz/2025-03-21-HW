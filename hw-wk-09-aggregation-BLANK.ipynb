{
 "cells": [
  {
   "cell_type": "markdown",
   "id": "58185b3c",
   "metadata": {
    "id": "58185b3c"
   },
   "source": [
    "### Paycheck Protection Program\n",
    "\n",
    "Let's analyze **an excerpt** from  <a href=\"https://www.sba.gov/funding-programs/loans/covid-19-relief-options/paycheck-protection-program\">SBA's PPP loan data</a>.\n",
    "\n",
    "The file we're working on is an excerpt so **we can't draw any hypothesis from our findings** in this homework.\n",
    "\n",
    "The excerpt can be found at this link: <a href=\"https://raw.githubusercontent.com/sandeepmj/datasets/main/ppp_excerpt.csv\">https://raw.githubusercontent.com/sandeepmj/datasets/main/ppp_excerpt.csv</a>\n",
    "\n"
   ]
  },
  {
   "cell_type": "code",
   "execution_count": 3,
   "id": "b243174e-03d4-48d8-81b6-88db62171527",
   "metadata": {},
   "outputs": [],
   "source": [
    "import pandas as pd"
   ]
  },
  {
   "cell_type": "code",
   "execution_count": 31,
   "id": "3ce4ca53-02b9-4e67-b26b-2040d2ec5e75",
   "metadata": {},
   "outputs": [],
   "source": [
    "df = pd.read_csv(\"http://raw.githubusercontent.com/sandeepmj/datasets/main/ppp_excerpt.csv\")\n"
   ]
  },
  {
   "cell_type": "code",
   "execution_count": 33,
   "id": "i1Qo4Gze7ZNd",
   "metadata": {
    "executionInfo": {
     "elapsed": 202,
     "status": "ok",
     "timestamp": 1708542693845,
     "user": {
      "displayName": "Sandeep Junnarkar",
      "userId": "15658885848901522782"
     },
     "user_tz": 480
    },
    "id": "i1Qo4Gze7ZNd"
   },
   "outputs": [],
   "source": [
    "## Run the code that resets the default display here to round the numbers, remove scientific notation, etc.\n",
    "\n",
    "pd.options.display.float_format = '{:,.0f}'.format"
   ]
  },
  {
   "cell_type": "code",
   "execution_count": 35,
   "id": "dRQUAJ8H7YTq",
   "metadata": {
    "executionInfo": {
     "elapsed": 8,
     "status": "ok",
     "timestamp": 1708542693845,
     "user": {
      "displayName": "Sandeep Junnarkar",
      "userId": "15658885848901522782"
     },
     "user_tz": 480
    },
    "id": "dRQUAJ8H7YTq"
   },
   "outputs": [
    {
     "data": {
      "text/html": [
       "<div>\n",
       "<style scoped>\n",
       "    .dataframe tbody tr th:only-of-type {\n",
       "        vertical-align: middle;\n",
       "    }\n",
       "\n",
       "    .dataframe tbody tr th {\n",
       "        vertical-align: top;\n",
       "    }\n",
       "\n",
       "    .dataframe thead th {\n",
       "        text-align: right;\n",
       "    }\n",
       "</style>\n",
       "<table border=\"1\" class=\"dataframe\">\n",
       "  <thead>\n",
       "    <tr style=\"text-align: right;\">\n",
       "      <th></th>\n",
       "      <th>LoanNumber</th>\n",
       "      <th>SBAOfficeCode</th>\n",
       "      <th>Term</th>\n",
       "      <th>SBAGuarantyPercentage</th>\n",
       "      <th>InitialApprovalAmount</th>\n",
       "      <th>CurrentApprovalAmount</th>\n",
       "      <th>UndisbursedAmount</th>\n",
       "      <th>ServicingLenderLocationID</th>\n",
       "      <th>JobsReported</th>\n",
       "      <th>NAICSCode</th>\n",
       "      <th>UTILITIES_PROCEED</th>\n",
       "      <th>PAYROLL_PROCEED</th>\n",
       "      <th>MORTGAGE_INTEREST_PROCEED</th>\n",
       "      <th>RENT_PROCEED</th>\n",
       "      <th>REFINANCE_EIDL_PROCEED</th>\n",
       "      <th>HEALTH_CARE_PROCEED</th>\n",
       "      <th>DEBT_INTEREST_PROCEED</th>\n",
       "      <th>OriginatingLenderLocationID</th>\n",
       "      <th>ForgivenessAmount</th>\n",
       "    </tr>\n",
       "  </thead>\n",
       "  <tbody>\n",
       "    <tr>\n",
       "      <th>count</th>\n",
       "      <td>1,000</td>\n",
       "      <td>1,000</td>\n",
       "      <td>1,000</td>\n",
       "      <td>1,000</td>\n",
       "      <td>1,000</td>\n",
       "      <td>1,000</td>\n",
       "      <td>1,000</td>\n",
       "      <td>1,000</td>\n",
       "      <td>1,000</td>\n",
       "      <td>999</td>\n",
       "      <td>413</td>\n",
       "      <td>998</td>\n",
       "      <td>38</td>\n",
       "      <td>147</td>\n",
       "      <td>1</td>\n",
       "      <td>77</td>\n",
       "      <td>20</td>\n",
       "      <td>1,000</td>\n",
       "      <td>935</td>\n",
       "    </tr>\n",
       "    <tr>\n",
       "      <th>mean</th>\n",
       "      <td>5,323,517,923</td>\n",
       "      <td>1,074</td>\n",
       "      <td>37</td>\n",
       "      <td>100</td>\n",
       "      <td>952,351</td>\n",
       "      <td>964,704</td>\n",
       "      <td>0</td>\n",
       "      <td>62,647</td>\n",
       "      <td>73</td>\n",
       "      <td>509,317</td>\n",
       "      <td>16,864</td>\n",
       "      <td>938,579</td>\n",
       "      <td>33,246</td>\n",
       "      <td>71,710</td>\n",
       "      <td>10,000</td>\n",
       "      <td>111,150</td>\n",
       "      <td>33,143</td>\n",
       "      <td>62,025</td>\n",
       "      <td>912,983</td>\n",
       "    </tr>\n",
       "    <tr>\n",
       "      <th>std</th>\n",
       "      <td>2,362,640,834</td>\n",
       "      <td>94</td>\n",
       "      <td>17</td>\n",
       "      <td>0</td>\n",
       "      <td>947,021</td>\n",
       "      <td>950,929</td>\n",
       "      <td>0</td>\n",
       "      <td>75,173</td>\n",
       "      <td>74</td>\n",
       "      <td>181,263</td>\n",
       "      <td>59,265</td>\n",
       "      <td>938,039</td>\n",
       "      <td>35,466</td>\n",
       "      <td>69,605</td>\n",
       "      <td>NaN</td>\n",
       "      <td>198,886</td>\n",
       "      <td>47,648</td>\n",
       "      <td>73,473</td>\n",
       "      <td>854,059</td>\n",
       "    </tr>\n",
       "    <tr>\n",
       "      <th>min</th>\n",
       "      <td>1,001,567,103</td>\n",
       "      <td>101</td>\n",
       "      <td>24</td>\n",
       "      <td>100</td>\n",
       "      <td>155,010</td>\n",
       "      <td>155,010</td>\n",
       "      <td>0</td>\n",
       "      <td>3,386</td>\n",
       "      <td>2</td>\n",
       "      <td>112,511</td>\n",
       "      <td>1</td>\n",
       "      <td>155,010</td>\n",
       "      <td>567</td>\n",
       "      <td>1,000</td>\n",
       "      <td>10,000</td>\n",
       "      <td>2,098</td>\n",
       "      <td>900</td>\n",
       "      <td>3,386</td>\n",
       "      <td>101,211</td>\n",
       "    </tr>\n",
       "    <tr>\n",
       "      <th>25%</th>\n",
       "      <td>3,570,982,102</td>\n",
       "      <td>1,084</td>\n",
       "      <td>24</td>\n",
       "      <td>100</td>\n",
       "      <td>453,308</td>\n",
       "      <td>463,935</td>\n",
       "      <td>0</td>\n",
       "      <td>3,386</td>\n",
       "      <td>30</td>\n",
       "      <td>423,175</td>\n",
       "      <td>1</td>\n",
       "      <td>452,336</td>\n",
       "      <td>9,250</td>\n",
       "      <td>28,695</td>\n",
       "      <td>10,000</td>\n",
       "      <td>28,944</td>\n",
       "      <td>4,191</td>\n",
       "      <td>3,386</td>\n",
       "      <td>456,726</td>\n",
       "    </tr>\n",
       "    <tr>\n",
       "      <th>50%</th>\n",
       "      <td>5,124,373,556</td>\n",
       "      <td>1,084</td>\n",
       "      <td>24</td>\n",
       "      <td>100</td>\n",
       "      <td>617,999</td>\n",
       "      <td>631,722</td>\n",
       "      <td>0</td>\n",
       "      <td>56,102</td>\n",
       "      <td>48</td>\n",
       "      <td>541,350</td>\n",
       "      <td>1</td>\n",
       "      <td>616,318</td>\n",
       "      <td>20,276</td>\n",
       "      <td>50,222</td>\n",
       "      <td>10,000</td>\n",
       "      <td>50,295</td>\n",
       "      <td>14,629</td>\n",
       "      <td>56,102</td>\n",
       "      <td>623,037</td>\n",
       "    </tr>\n",
       "    <tr>\n",
       "      <th>75%</th>\n",
       "      <td>7,058,052,030</td>\n",
       "      <td>1,084</td>\n",
       "      <td>60</td>\n",
       "      <td>100</td>\n",
       "      <td>1,024,391</td>\n",
       "      <td>1,035,338</td>\n",
       "      <td>0</td>\n",
       "      <td>116,975</td>\n",
       "      <td>85</td>\n",
       "      <td>621,760</td>\n",
       "      <td>12,460</td>\n",
       "      <td>1,013,201</td>\n",
       "      <td>50,138</td>\n",
       "      <td>91,491</td>\n",
       "      <td>10,000</td>\n",
       "      <td>100,000</td>\n",
       "      <td>35,946</td>\n",
       "      <td>116,975</td>\n",
       "      <td>1,010,828</td>\n",
       "    </tr>\n",
       "    <tr>\n",
       "      <th>max</th>\n",
       "      <td>9,993,717,000</td>\n",
       "      <td>1,084</td>\n",
       "      <td>60</td>\n",
       "      <td>100</td>\n",
       "      <td>9,571,397</td>\n",
       "      <td>9,538,531</td>\n",
       "      <td>0</td>\n",
       "      <td>524,612</td>\n",
       "      <td>500</td>\n",
       "      <td>924,120</td>\n",
       "      <td>880,559</td>\n",
       "      <td>9,538,531</td>\n",
       "      <td>151,421</td>\n",
       "      <td>404,926</td>\n",
       "      <td>10,000</td>\n",
       "      <td>1,490,741</td>\n",
       "      <td>200,772</td>\n",
       "      <td>518,683</td>\n",
       "      <td>9,615,885</td>\n",
       "    </tr>\n",
       "  </tbody>\n",
       "</table>\n",
       "</div>"
      ],
      "text/plain": [
       "         LoanNumber  SBAOfficeCode  Term  SBAGuarantyPercentage  \\\n",
       "count         1,000          1,000 1,000                  1,000   \n",
       "mean  5,323,517,923          1,074    37                    100   \n",
       "std   2,362,640,834             94    17                      0   \n",
       "min   1,001,567,103            101    24                    100   \n",
       "25%   3,570,982,102          1,084    24                    100   \n",
       "50%   5,124,373,556          1,084    24                    100   \n",
       "75%   7,058,052,030          1,084    60                    100   \n",
       "max   9,993,717,000          1,084    60                    100   \n",
       "\n",
       "       InitialApprovalAmount  CurrentApprovalAmount  UndisbursedAmount  \\\n",
       "count                  1,000                  1,000              1,000   \n",
       "mean                 952,351                964,704                  0   \n",
       "std                  947,021                950,929                  0   \n",
       "min                  155,010                155,010                  0   \n",
       "25%                  453,308                463,935                  0   \n",
       "50%                  617,999                631,722                  0   \n",
       "75%                1,024,391              1,035,338                  0   \n",
       "max                9,571,397              9,538,531                  0   \n",
       "\n",
       "       ServicingLenderLocationID  JobsReported  NAICSCode  UTILITIES_PROCEED  \\\n",
       "count                      1,000         1,000        999                413   \n",
       "mean                      62,647            73    509,317             16,864   \n",
       "std                       75,173            74    181,263             59,265   \n",
       "min                        3,386             2    112,511                  1   \n",
       "25%                        3,386            30    423,175                  1   \n",
       "50%                       56,102            48    541,350                  1   \n",
       "75%                      116,975            85    621,760             12,460   \n",
       "max                      524,612           500    924,120            880,559   \n",
       "\n",
       "       PAYROLL_PROCEED  MORTGAGE_INTEREST_PROCEED  RENT_PROCEED  \\\n",
       "count              998                         38           147   \n",
       "mean           938,579                     33,246        71,710   \n",
       "std            938,039                     35,466        69,605   \n",
       "min            155,010                        567         1,000   \n",
       "25%            452,336                      9,250        28,695   \n",
       "50%            616,318                     20,276        50,222   \n",
       "75%          1,013,201                     50,138        91,491   \n",
       "max          9,538,531                    151,421       404,926   \n",
       "\n",
       "       REFINANCE_EIDL_PROCEED  HEALTH_CARE_PROCEED  DEBT_INTEREST_PROCEED  \\\n",
       "count                       1                   77                     20   \n",
       "mean                   10,000              111,150                 33,143   \n",
       "std                       NaN              198,886                 47,648   \n",
       "min                    10,000                2,098                    900   \n",
       "25%                    10,000               28,944                  4,191   \n",
       "50%                    10,000               50,295                 14,629   \n",
       "75%                    10,000              100,000                 35,946   \n",
       "max                    10,000            1,490,741                200,772   \n",
       "\n",
       "       OriginatingLenderLocationID  ForgivenessAmount  \n",
       "count                        1,000                935  \n",
       "mean                        62,025            912,983  \n",
       "std                         73,473            854,059  \n",
       "min                          3,386            101,211  \n",
       "25%                          3,386            456,726  \n",
       "50%                         56,102            623,037  \n",
       "75%                        116,975          1,010,828  \n",
       "max                        518,683          9,615,885  "
      ]
     },
     "execution_count": 35,
     "metadata": {},
     "output_type": "execute_result"
    }
   ],
   "source": [
    "## Run the code here to return all summary statistics in one go\n",
    "\n",
    "df.describe()"
   ]
  },
  {
   "cell_type": "code",
   "execution_count": 37,
   "id": "6b55ca04",
   "metadata": {
    "executionInfo": {
     "elapsed": 8,
     "status": "ok",
     "timestamp": 1708542693845,
     "user": {
      "displayName": "Sandeep Junnarkar",
      "userId": "15658885848901522782"
     },
     "user_tz": 480
    },
    "id": "6b55ca04"
   },
   "outputs": [
    {
     "data": {
      "text/plain": [
       "853638795.3599999"
      ]
     },
     "execution_count": 37,
     "metadata": {},
     "output_type": "execute_result"
    }
   ],
   "source": [
    "## What is the sum of all the forgiven loans\n",
    "\n",
    "df[\"ForgivenessAmount\"].sum()"
   ]
  },
  {
   "cell_type": "code",
   "execution_count": 43,
   "id": "10fc2aa1",
   "metadata": {
    "executionInfo": {
     "elapsed": 8,
     "status": "ok",
     "timestamp": 1708542693845,
     "user": {
      "displayName": "Sandeep Junnarkar",
      "userId": "15658885848901522782"
     },
     "user_tz": 480
    },
    "id": "10fc2aa1"
   },
   "outputs": [
    {
     "data": {
      "text/plain": [
       "'$853,638,795'"
      ]
     },
     "execution_count": 43,
     "metadata": {},
     "output_type": "execute_result"
    }
   ],
   "source": [
    "## What is the sum of all the forgiven loans\n",
    "## format with dollar sign and thousands separators\n",
    "## round to zero decimals\n",
    "\n",
    "f\"${df['ForgivenessAmount'].sum():,.0f}\""
   ]
  },
  {
   "cell_type": "code",
   "execution_count": 47,
   "id": "35d_-Hfp-rpt",
   "metadata": {
    "executionInfo": {
     "elapsed": 8,
     "status": "ok",
     "timestamp": 1708542693845,
     "user": {
      "displayName": "Sandeep Junnarkar",
      "userId": "15658885848901522782"
     },
     "user_tz": 480
    },
    "id": "35d_-Hfp-rpt"
   },
   "outputs": [
    {
     "data": {
      "text/plain": [
       "'$853,638,795'"
      ]
     },
     "execution_count": 47,
     "metadata": {},
     "output_type": "execute_result"
    }
   ],
   "source": [
    "## store in variable called total_loan_forgiven\n",
    "total_loan_forgiven = f\"${df['ForgivenessAmount'].sum():,.0f}\"\n",
    "total_loan_forgiven"
   ]
  },
  {
   "cell_type": "code",
   "execution_count": 49,
   "id": "85f40afa",
   "metadata": {
    "executionInfo": {
     "elapsed": 8,
     "status": "ok",
     "timestamp": 1708542693845,
     "user": {
      "displayName": "Sandeep Junnarkar",
      "userId": "15658885848901522782"
     },
     "user_tz": 480
    },
    "id": "85f40afa"
   },
   "outputs": [
    {
     "data": {
      "text/plain": [
       "CurrentApprovalAmount   631,722\n",
       "InitialApprovalAmount   617,999\n",
       "ForgivenessAmount       623,037\n",
       "dtype: float64"
      ]
     },
     "execution_count": 49,
     "metadata": {},
     "output_type": "execute_result"
    }
   ],
   "source": [
    "## return the median for CurrentApprovalAmount loans, InitialApprovalAmount loans and ForgivenessAmount loan amounts\n",
    "df[[\"CurrentApprovalAmount\", \"InitialApprovalAmount\", \"ForgivenessAmount\"]].median()"
   ]
  },
  {
   "cell_type": "code",
   "execution_count": 51,
   "id": "agAgZitYf6ZP",
   "metadata": {
    "executionInfo": {
     "elapsed": 7,
     "status": "ok",
     "timestamp": 1708542693845,
     "user": {
      "displayName": "Sandeep Junnarkar",
      "userId": "15658885848901522782"
     },
     "user_tz": 480
    },
    "id": "agAgZitYf6ZP"
   },
   "outputs": [
    {
     "data": {
      "text/html": [
       "<div>\n",
       "<style scoped>\n",
       "    .dataframe tbody tr th:only-of-type {\n",
       "        vertical-align: middle;\n",
       "    }\n",
       "\n",
       "    .dataframe tbody tr th {\n",
       "        vertical-align: top;\n",
       "    }\n",
       "\n",
       "    .dataframe thead th {\n",
       "        text-align: right;\n",
       "    }\n",
       "</style>\n",
       "<table border=\"1\" class=\"dataframe\">\n",
       "  <thead>\n",
       "    <tr style=\"text-align: right;\">\n",
       "      <th></th>\n",
       "      <th>Median Loan Amount</th>\n",
       "    </tr>\n",
       "  </thead>\n",
       "  <tbody>\n",
       "    <tr>\n",
       "      <th>CurrentApprovalAmount</th>\n",
       "      <td>631,722</td>\n",
       "    </tr>\n",
       "    <tr>\n",
       "      <th>InitialApprovalAmount</th>\n",
       "      <td>617,999</td>\n",
       "    </tr>\n",
       "    <tr>\n",
       "      <th>ForgivenessAmount</th>\n",
       "      <td>623,037</td>\n",
       "    </tr>\n",
       "  </tbody>\n",
       "</table>\n",
       "</div>"
      ],
      "text/plain": [
       "                       Median Loan Amount\n",
       "CurrentApprovalAmount             631,722\n",
       "InitialApprovalAmount             617,999\n",
       "ForgivenessAmount                 623,037"
      ]
     },
     "execution_count": 51,
     "metadata": {},
     "output_type": "execute_result"
    }
   ],
   "source": [
    "##  Return the above as a frame\n",
    "df[[\"CurrentApprovalAmount\", \"InitialApprovalAmount\", \"ForgivenessAmount\"]].median().to_frame(\"Median Loan Amount\")"
   ]
  },
  {
   "cell_type": "code",
   "execution_count": 53,
   "id": "0c26aa08",
   "metadata": {
    "executionInfo": {
     "elapsed": 7,
     "status": "ok",
     "timestamp": 1708542693845,
     "user": {
      "displayName": "Sandeep Junnarkar",
      "userId": "15658885848901522782"
     },
     "user_tz": 480
    },
    "id": "0c26aa08"
   },
   "outputs": [
    {
     "data": {
      "text/html": [
       "<div>\n",
       "<style scoped>\n",
       "    .dataframe tbody tr th:only-of-type {\n",
       "        vertical-align: middle;\n",
       "    }\n",
       "\n",
       "    .dataframe tbody tr th {\n",
       "        vertical-align: top;\n",
       "    }\n",
       "\n",
       "    .dataframe thead th {\n",
       "        text-align: right;\n",
       "    }\n",
       "</style>\n",
       "<table border=\"1\" class=\"dataframe\">\n",
       "  <thead>\n",
       "    <tr style=\"text-align: right;\">\n",
       "      <th></th>\n",
       "      <th>CurrentApprovalAmount</th>\n",
       "    </tr>\n",
       "  </thead>\n",
       "  <tbody>\n",
       "    <tr>\n",
       "      <th>count</th>\n",
       "      <td>1,000</td>\n",
       "    </tr>\n",
       "    <tr>\n",
       "      <th>mean</th>\n",
       "      <td>964,704</td>\n",
       "    </tr>\n",
       "    <tr>\n",
       "      <th>median</th>\n",
       "      <td>631,722</td>\n",
       "    </tr>\n",
       "  </tbody>\n",
       "</table>\n",
       "</div>"
      ],
      "text/plain": [
       "        CurrentApprovalAmount\n",
       "count                   1,000\n",
       "mean                  964,704\n",
       "median                631,722"
      ]
     },
     "execution_count": 53,
     "metadata": {},
     "output_type": "execute_result"
    }
   ],
   "source": [
    "## get the count, mean and median for CurrentApprovalAmount\n",
    "df[[\"CurrentApprovalAmount\"]].agg([\"count\", \"mean\", \"median\" ])"
   ]
  },
  {
   "cell_type": "code",
   "execution_count": 57,
   "id": "e350c71d",
   "metadata": {
    "executionInfo": {
     "elapsed": 7,
     "status": "ok",
     "timestamp": 1708542693845,
     "user": {
      "displayName": "Sandeep Junnarkar",
      "userId": "15658885848901522782"
     },
     "user_tz": 480
    },
    "id": "e350c71d"
   },
   "outputs": [
    {
     "data": {
      "text/html": [
       "<div>\n",
       "<style scoped>\n",
       "    .dataframe tbody tr th:only-of-type {\n",
       "        vertical-align: middle;\n",
       "    }\n",
       "\n",
       "    .dataframe tbody tr th {\n",
       "        vertical-align: top;\n",
       "    }\n",
       "\n",
       "    .dataframe thead th {\n",
       "        text-align: right;\n",
       "    }\n",
       "</style>\n",
       "<table border=\"1\" class=\"dataframe\">\n",
       "  <thead>\n",
       "    <tr style=\"text-align: right;\">\n",
       "      <th></th>\n",
       "      <th>InitialApprovalAmount</th>\n",
       "      <th>CurrentApprovalAmount</th>\n",
       "    </tr>\n",
       "  </thead>\n",
       "  <tbody>\n",
       "    <tr>\n",
       "      <th>count</th>\n",
       "      <td>1,000</td>\n",
       "      <td>1,000</td>\n",
       "    </tr>\n",
       "    <tr>\n",
       "      <th>mean</th>\n",
       "      <td>952,351</td>\n",
       "      <td>964,704</td>\n",
       "    </tr>\n",
       "    <tr>\n",
       "      <th>median</th>\n",
       "      <td>617,999</td>\n",
       "      <td>631,722</td>\n",
       "    </tr>\n",
       "  </tbody>\n",
       "</table>\n",
       "</div>"
      ],
      "text/plain": [
       "        InitialApprovalAmount  CurrentApprovalAmount\n",
       "count                   1,000                  1,000\n",
       "mean                  952,351                964,704\n",
       "median                617,999                631,722"
      ]
     },
     "execution_count": 57,
     "metadata": {},
     "output_type": "execute_result"
    }
   ],
   "source": [
    "## automatically return a frame (without using to_frame()) for the count, mean and median for InitialApprovalAmount, CurrentApprovalAmount\n",
    "target_stats = [\"count\", \"mean\", \"median\"]\n",
    "df[[\"InitialApprovalAmount\", \"CurrentApprovalAmount\"]].agg(target_stats)"
   ]
  },
  {
   "cell_type": "code",
   "execution_count": null,
   "id": "6158b206-ee84-466a-ad9a-46cc86a74bed",
   "metadata": {},
   "outputs": [],
   "source": [
    "##CHALLENGE"
   ]
  },
  {
   "cell_type": "code",
   "execution_count": 5,
   "id": "9c11a816-2a8a-4f5c-9238-d0fea4b99296",
   "metadata": {},
   "outputs": [],
   "source": [
    "dfs = pd.read_csv(\"https://raw.githubusercontent.com/sandeepmj/datasets/main/olympics-summer.csv\")\n",
    "dfw = pd.read_csv(\"https://raw.githubusercontent.com/sandeepmj/datasets/main/olympics-winter.csv\")"
   ]
  },
  {
   "cell_type": "code",
   "execution_count": 7,
   "id": "872d9a5d-dd6f-4692-b432-f886541e0aa3",
   "metadata": {
    "scrolled": true
   },
   "outputs": [
    {
     "data": {
      "text/html": [
       "<div>\n",
       "<style scoped>\n",
       "    .dataframe tbody tr th:only-of-type {\n",
       "        vertical-align: middle;\n",
       "    }\n",
       "\n",
       "    .dataframe tbody tr th {\n",
       "        vertical-align: top;\n",
       "    }\n",
       "\n",
       "    .dataframe thead th {\n",
       "        text-align: right;\n",
       "    }\n",
       "</style>\n",
       "<table border=\"1\" class=\"dataframe\">\n",
       "  <thead>\n",
       "    <tr style=\"text-align: right;\">\n",
       "      <th></th>\n",
       "      <th>ID</th>\n",
       "      <th>Athlete Name</th>\n",
       "      <th>Sex</th>\n",
       "      <th>Age</th>\n",
       "      <th>Height</th>\n",
       "      <th>Weight</th>\n",
       "      <th>Team</th>\n",
       "      <th>NOC</th>\n",
       "      <th>Year</th>\n",
       "      <th>City</th>\n",
       "      <th>Sport</th>\n",
       "      <th>Event</th>\n",
       "      <th>Medal</th>\n",
       "    </tr>\n",
       "  </thead>\n",
       "  <tbody>\n",
       "    <tr>\n",
       "      <th>0</th>\n",
       "      <td>1724</td>\n",
       "      <td>Aristidis Akratopoulos</td>\n",
       "      <td>M</td>\n",
       "      <td>NaN</td>\n",
       "      <td>NaN</td>\n",
       "      <td>NaN</td>\n",
       "      <td>Greece</td>\n",
       "      <td>GRE</td>\n",
       "      <td>1896</td>\n",
       "      <td>Athina</td>\n",
       "      <td>Tennis</td>\n",
       "      <td>Tennis Men's Singles</td>\n",
       "      <td>NaN</td>\n",
       "    </tr>\n",
       "    <tr>\n",
       "      <th>1</th>\n",
       "      <td>1724</td>\n",
       "      <td>Aristidis Akratopoulos</td>\n",
       "      <td>M</td>\n",
       "      <td>NaN</td>\n",
       "      <td>NaN</td>\n",
       "      <td>NaN</td>\n",
       "      <td>Greece-3</td>\n",
       "      <td>GRE</td>\n",
       "      <td>1896</td>\n",
       "      <td>Athina</td>\n",
       "      <td>Tennis</td>\n",
       "      <td>Tennis Men's Doubles</td>\n",
       "      <td>NaN</td>\n",
       "    </tr>\n",
       "    <tr>\n",
       "      <th>2</th>\n",
       "      <td>1725</td>\n",
       "      <td>Konstantinos \"Kostas\" Akratopoulos</td>\n",
       "      <td>M</td>\n",
       "      <td>NaN</td>\n",
       "      <td>NaN</td>\n",
       "      <td>NaN</td>\n",
       "      <td>Greece</td>\n",
       "      <td>GRE</td>\n",
       "      <td>1896</td>\n",
       "      <td>Athina</td>\n",
       "      <td>Tennis</td>\n",
       "      <td>Tennis Men's Singles</td>\n",
       "      <td>NaN</td>\n",
       "    </tr>\n",
       "    <tr>\n",
       "      <th>3</th>\n",
       "      <td>1725</td>\n",
       "      <td>Konstantinos \"Kostas\" Akratopoulos</td>\n",
       "      <td>M</td>\n",
       "      <td>NaN</td>\n",
       "      <td>NaN</td>\n",
       "      <td>NaN</td>\n",
       "      <td>Greece-3</td>\n",
       "      <td>GRE</td>\n",
       "      <td>1896</td>\n",
       "      <td>Athina</td>\n",
       "      <td>Tennis</td>\n",
       "      <td>Tennis Men's Doubles</td>\n",
       "      <td>NaN</td>\n",
       "    </tr>\n",
       "    <tr>\n",
       "      <th>4</th>\n",
       "      <td>4113</td>\n",
       "      <td>Anastasios Andreou</td>\n",
       "      <td>M</td>\n",
       "      <td>NaN</td>\n",
       "      <td>NaN</td>\n",
       "      <td>NaN</td>\n",
       "      <td>Greece</td>\n",
       "      <td>GRE</td>\n",
       "      <td>1896</td>\n",
       "      <td>Athina</td>\n",
       "      <td>Athletics</td>\n",
       "      <td>Athletics Men's 110 metres Hurdles</td>\n",
       "      <td>NaN</td>\n",
       "    </tr>\n",
       "    <tr>\n",
       "      <th>...</th>\n",
       "      <td>...</td>\n",
       "      <td>...</td>\n",
       "      <td>...</td>\n",
       "      <td>...</td>\n",
       "      <td>...</td>\n",
       "      <td>...</td>\n",
       "      <td>...</td>\n",
       "      <td>...</td>\n",
       "      <td>...</td>\n",
       "      <td>...</td>\n",
       "      <td>...</td>\n",
       "      <td>...</td>\n",
       "      <td>...</td>\n",
       "    </tr>\n",
       "    <tr>\n",
       "      <th>271111</th>\n",
       "      <td>135485</td>\n",
       "      <td>Stepan Olegovich Zuyev</td>\n",
       "      <td>M</td>\n",
       "      <td>25.0</td>\n",
       "      <td>189.0</td>\n",
       "      <td>90.0</td>\n",
       "      <td>Russia</td>\n",
       "      <td>RUS</td>\n",
       "      <td>2014</td>\n",
       "      <td>Sochi</td>\n",
       "      <td>Alpine Skiing</td>\n",
       "      <td>Alpine Skiing Men's Slalom</td>\n",
       "      <td>NaN</td>\n",
       "    </tr>\n",
       "    <tr>\n",
       "      <th>271112</th>\n",
       "      <td>135500</td>\n",
       "      <td>Kristaps Zvejnieks</td>\n",
       "      <td>M</td>\n",
       "      <td>21.0</td>\n",
       "      <td>185.0</td>\n",
       "      <td>87.0</td>\n",
       "      <td>Latvia</td>\n",
       "      <td>LAT</td>\n",
       "      <td>2014</td>\n",
       "      <td>Sochi</td>\n",
       "      <td>Alpine Skiing</td>\n",
       "      <td>Alpine Skiing Men's Giant Slalom</td>\n",
       "      <td>NaN</td>\n",
       "    </tr>\n",
       "    <tr>\n",
       "      <th>271113</th>\n",
       "      <td>135500</td>\n",
       "      <td>Kristaps Zvejnieks</td>\n",
       "      <td>M</td>\n",
       "      <td>21.0</td>\n",
       "      <td>185.0</td>\n",
       "      <td>87.0</td>\n",
       "      <td>Latvia</td>\n",
       "      <td>LAT</td>\n",
       "      <td>2014</td>\n",
       "      <td>Sochi</td>\n",
       "      <td>Alpine Skiing</td>\n",
       "      <td>Alpine Skiing Men's Slalom</td>\n",
       "      <td>NaN</td>\n",
       "    </tr>\n",
       "    <tr>\n",
       "      <th>271114</th>\n",
       "      <td>135570</td>\n",
       "      <td>Piotr ya</td>\n",
       "      <td>M</td>\n",
       "      <td>27.0</td>\n",
       "      <td>176.0</td>\n",
       "      <td>59.0</td>\n",
       "      <td>Poland</td>\n",
       "      <td>POL</td>\n",
       "      <td>2014</td>\n",
       "      <td>Sochi</td>\n",
       "      <td>Ski Jumping</td>\n",
       "      <td>Ski Jumping Men's Large Hill, Individual</td>\n",
       "      <td>NaN</td>\n",
       "    </tr>\n",
       "    <tr>\n",
       "      <th>271115</th>\n",
       "      <td>135570</td>\n",
       "      <td>Piotr ya</td>\n",
       "      <td>M</td>\n",
       "      <td>27.0</td>\n",
       "      <td>176.0</td>\n",
       "      <td>59.0</td>\n",
       "      <td>Poland</td>\n",
       "      <td>POL</td>\n",
       "      <td>2014</td>\n",
       "      <td>Sochi</td>\n",
       "      <td>Ski Jumping</td>\n",
       "      <td>Ski Jumping Men's Large Hill, Team</td>\n",
       "      <td>NaN</td>\n",
       "    </tr>\n",
       "  </tbody>\n",
       "</table>\n",
       "<p>271116 rows × 13 columns</p>\n",
       "</div>"
      ],
      "text/plain": [
       "            ID                        Athlete Name Sex   Age  Height  Weight  \\\n",
       "0         1724              Aristidis Akratopoulos   M   NaN     NaN     NaN   \n",
       "1         1724              Aristidis Akratopoulos   M   NaN     NaN     NaN   \n",
       "2         1725  Konstantinos \"Kostas\" Akratopoulos   M   NaN     NaN     NaN   \n",
       "3         1725  Konstantinos \"Kostas\" Akratopoulos   M   NaN     NaN     NaN   \n",
       "4         4113                  Anastasios Andreou   M   NaN     NaN     NaN   \n",
       "...        ...                                 ...  ..   ...     ...     ...   \n",
       "271111  135485              Stepan Olegovich Zuyev   M  25.0   189.0    90.0   \n",
       "271112  135500                  Kristaps Zvejnieks   M  21.0   185.0    87.0   \n",
       "271113  135500                  Kristaps Zvejnieks   M  21.0   185.0    87.0   \n",
       "271114  135570                            Piotr ya   M  27.0   176.0    59.0   \n",
       "271115  135570                            Piotr ya   M  27.0   176.0    59.0   \n",
       "\n",
       "            Team  NOC  Year    City          Sport  \\\n",
       "0         Greece  GRE  1896  Athina         Tennis   \n",
       "1       Greece-3  GRE  1896  Athina         Tennis   \n",
       "2         Greece  GRE  1896  Athina         Tennis   \n",
       "3       Greece-3  GRE  1896  Athina         Tennis   \n",
       "4         Greece  GRE  1896  Athina      Athletics   \n",
       "...          ...  ...   ...     ...            ...   \n",
       "271111    Russia  RUS  2014   Sochi  Alpine Skiing   \n",
       "271112    Latvia  LAT  2014   Sochi  Alpine Skiing   \n",
       "271113    Latvia  LAT  2014   Sochi  Alpine Skiing   \n",
       "271114    Poland  POL  2014   Sochi    Ski Jumping   \n",
       "271115    Poland  POL  2014   Sochi    Ski Jumping   \n",
       "\n",
       "                                           Event Medal  \n",
       "0                           Tennis Men's Singles   NaN  \n",
       "1                           Tennis Men's Doubles   NaN  \n",
       "2                           Tennis Men's Singles   NaN  \n",
       "3                           Tennis Men's Doubles   NaN  \n",
       "4             Athletics Men's 110 metres Hurdles   NaN  \n",
       "...                                          ...   ...  \n",
       "271111                Alpine Skiing Men's Slalom   NaN  \n",
       "271112          Alpine Skiing Men's Giant Slalom   NaN  \n",
       "271113                Alpine Skiing Men's Slalom   NaN  \n",
       "271114  Ski Jumping Men's Large Hill, Individual   NaN  \n",
       "271115        Ski Jumping Men's Large Hill, Team   NaN  \n",
       "\n",
       "[271116 rows x 13 columns]"
      ]
     },
     "execution_count": 7,
     "metadata": {},
     "output_type": "execute_result"
    }
   ],
   "source": [
    "df_all = pd.concat([dfs, dfw], ignore_index=True)\n",
    "df_all"
   ]
  },
  {
   "cell_type": "code",
   "execution_count": 9,
   "id": "d2bbc518-614d-4d7b-98da-8c96a51f05c2",
   "metadata": {},
   "outputs": [
    {
     "data": {
      "text/plain": [
       "34088"
      ]
     },
     "execution_count": 9,
     "metadata": {},
     "output_type": "execute_result"
    }
   ],
   "source": [
    "##1. How many medals were handed out in winter games v. summer game (return both in absolutes and as a percentage)?\n",
    "dfs = dfs.dropna(subset=['Medal'])\n",
    "dfs[\"Medal\"].count()"
   ]
  },
  {
   "cell_type": "code",
   "execution_count": 11,
   "id": "1adaf945-fd96-4372-b5a2-68437ce41253",
   "metadata": {},
   "outputs": [
    {
     "data": {
      "text/plain": [
       "5695"
      ]
     },
     "execution_count": 11,
     "metadata": {},
     "output_type": "execute_result"
    }
   ],
   "source": [
    "dfw = dfw.dropna(subset=['Medal'])\n",
    "dfw[\"Medal\"].count()"
   ]
  },
  {
   "cell_type": "code",
   "execution_count": 17,
   "id": "7268485d-840b-4e48-a944-6231e781be6f",
   "metadata": {},
   "outputs": [
    {
     "data": {
      "text/plain": [
       "Medal\n",
       "Gold      33.615935\n",
       "Bronze    33.469256\n",
       "Silver    32.914809\n",
       "Name: proportion, dtype: float64"
      ]
     },
     "execution_count": 17,
     "metadata": {},
     "output_type": "execute_result"
    }
   ],
   "source": [
    "dfs[\"Medal\"].value_counts(normalize=True)*100"
   ]
  },
  {
   "cell_type": "code",
   "execution_count": 19,
   "id": "c6e6852a-4e48-4b0e-a957-23665ccc3b84",
   "metadata": {},
   "outputs": [
    {
     "data": {
      "text/plain": [
       "Medal\n",
       "Gold      33.590869\n",
       "Silver    33.292362\n",
       "Bronze    33.116769\n",
       "Name: proportion, dtype: float64"
      ]
     },
     "execution_count": 19,
     "metadata": {},
     "output_type": "execute_result"
    }
   ],
   "source": [
    "dfw[\"Medal\"].value_counts(normalize=True)*100"
   ]
  },
  {
   "cell_type": "code",
   "execution_count": 23,
   "id": "09678a02-d247-4e3c-9360-58b0e7476fd7",
   "metadata": {},
   "outputs": [],
   "source": [
    "##2. Top 10 count of gold medals by country\n",
    "df_all_gold = df_all[df_all[\"Medal\"] == \"Gold\"]"
   ]
  },
  {
   "cell_type": "code",
   "execution_count": 35,
   "id": "bde8acaa-c7c9-4585-b550-10b15be694bf",
   "metadata": {},
   "outputs": [
    {
     "data": {
      "text/plain": [
       "NOC\n",
       "USA    2638\n",
       "URS    1082\n",
       "GER     745\n",
       "GBR     678\n",
       "ITA     575\n",
       "FRA     501\n",
       "SWE     479\n",
       "CAN     463\n",
       "HUN     432\n",
       "GDR     397\n",
       "Name: count, dtype: int64"
      ]
     },
     "execution_count": 35,
     "metadata": {},
     "output_type": "execute_result"
    }
   ],
   "source": [
    "df_all_gold[\"NOC\"].value_counts().head(10)"
   ]
  },
  {
   "cell_type": "code",
   "execution_count": null,
   "id": "130fc70e-ead1-4b6d-b1e8-c7f68718fb41",
   "metadata": {},
   "outputs": [],
   "source": []
  },
  {
   "cell_type": "code",
   "execution_count": null,
   "id": "f4d60375-0943-40f3-a004-0cc2f5f10387",
   "metadata": {},
   "outputs": [],
   "source": [
    "##3. Of these top 10, what percent of the gold medals do they have?"
   ]
  },
  {
   "cell_type": "code",
   "execution_count": 39,
   "id": "ad086d26-a5de-428e-96cf-d3ea22a5f64a",
   "metadata": {},
   "outputs": [
    {
     "data": {
      "text/plain": [
       "NOC\n",
       "USA    19.727789\n",
       "URS     8.091535\n",
       "GER     5.571343\n",
       "GBR     5.070296\n",
       "ITA     4.300030\n",
       "FRA     3.746635\n",
       "SWE     3.582112\n",
       "CAN     3.462459\n",
       "HUN     3.230631\n",
       "GDR     2.968890\n",
       "Name: proportion, dtype: float64"
      ]
     },
     "execution_count": 39,
     "metadata": {},
     "output_type": "execute_result"
    }
   ],
   "source": [
    "df_all_gold[\"NOC\"].value_counts(normalize=True).head(10)*100"
   ]
  },
  {
   "cell_type": "code",
   "execution_count": null,
   "id": "e06c22a8-b5c1-45dd-bcd7-1c6495cc0faa",
   "metadata": {},
   "outputs": [],
   "source": []
  },
  {
   "cell_type": "code",
   "execution_count": null,
   "id": "53eb089d-6f78-4408-823a-c59b06d4b05f",
   "metadata": {},
   "outputs": [],
   "source": []
  }
 ],
 "metadata": {
  "colab": {
   "provenance": [
    {
     "file_id": "1yepcRQfjJBSJQ1e9voMR4wRhRyqiIMRh",
     "timestamp": 1708542416840
    },
    {
     "file_id": "1E6lBk0CybDpYiiIpbN9F2vZv4TLTRdMM",
     "timestamp": 1708539602346
    },
    {
     "file_id": "1xGQnNd1p_PPGTl8XhHSTNwgrGJzg3GJL",
     "timestamp": 1676647902051
    },
    {
     "file_id": "13mkVHyvtYcLg0IQu4I7fAqJ0KjUuVhVY",
     "timestamp": 1676556385459
    },
    {
     "file_id": "1-tVOs87v3x9Dtnvny9lYMSSUjYcnPE5r",
     "timestamp": 1676553506628
    }
   ]
  },
  "kernelspec": {
   "display_name": "Python [conda env:base] *",
   "language": "python",
   "name": "conda-base-py"
  },
  "language_info": {
   "codemirror_mode": {
    "name": "ipython",
    "version": 3
   },
   "file_extension": ".py",
   "mimetype": "text/x-python",
   "name": "python",
   "nbconvert_exporter": "python",
   "pygments_lexer": "ipython3",
   "version": "3.12.7"
  }
 },
 "nbformat": 4,
 "nbformat_minor": 5
}
